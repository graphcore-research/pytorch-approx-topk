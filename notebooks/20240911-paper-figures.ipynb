{
 "cells": [
  {
   "cell_type": "code",
   "execution_count": 1,
   "metadata": {},
   "outputs": [],
   "source": [
    "%load_ext autoreload\n",
    "%autoreload 2"
   ]
  },
  {
   "cell_type": "code",
   "execution_count": 3,
   "metadata": {},
   "outputs": [],
   "source": [
    "import matplotlib\n",
    "import matplotlib.pyplot as plt\n",
    "import numpy as np\n",
    "import pandas as pd\n",
    "import seaborn as sns\n",
    "import time\n",
    "import tqdm\n",
    "import typing\n",
    "\n",
    "_ = matplotlib.rc(\"text\", usetex=True)\n",
    "_ = matplotlib.rc(\"font\", family=\"serif\", serif=\"CMU Serif\")"
   ]
  },
  {
   "cell_type": "code",
   "execution_count": null,
   "metadata": {},
   "outputs": [],
   "source": [
    "def plot_tradeoffs(\n",
    "    df: pd.DataFrame,\n",
    "    horizontal_plots,\n",
    "    vertical_plots,\n",
    "    **kwargs,\n",
    ") -> None:\n",
    "    \"\"\"Plot the tradeoff between cost and task performance\"\"\"\n"
   ]
  }
 ],
 "metadata": {
  "kernelspec": {
   "display_name": "Python 3.11.4 ('base')",
   "language": "python",
   "name": "python3"
  },
  "language_info": {
   "codemirror_mode": {
    "name": "ipython",
    "version": 3
   },
   "file_extension": ".py",
   "mimetype": "text/x-python",
   "name": "python",
   "nbconvert_exporter": "python",
   "pygments_lexer": "ipython3",
   "version": "3.11.4"
  },
  "orig_nbformat": 4,
  "vscode": {
   "interpreter": {
    "hash": "3031c7d28276693763c906ac6cd6e99ad46c4d38a0966ad2671ff0ba747c6d17"
   }
  }
 },
 "nbformat": 4,
 "nbformat_minor": 2
}
