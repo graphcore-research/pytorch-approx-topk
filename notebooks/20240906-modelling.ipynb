{
 "cells": [
  {
   "cell_type": "markdown",
   "metadata": {},
   "source": [
    "# Model of recall and cost\n",
    "\n",
    "Problem: find the top-$K$ from $N$ elements (optionally in a batch of $B$ independent tasks).\n",
    "\n",
    "Approximate method:\n",
    " 1. Split $N$ elements into $L$ buckets (assume $L$ divides $N$), and compute the top-$J$ for each bucket (of size $N/L$).\n",
    " 2. If $L\\, J > K$, get the top-$K$ of these candidates.\n",
    "\n",
    "Metrics: if $S^*$ is a set of the true top-$K$ and $S$ is the set returned from our algorithm, recall $R = |S^* \\cap S|/|S^*|$.\n",
    "\n",
    "Cost model (worst case, because of parallelism):\n",
    "\n",
    " | Algorithm | Total ops (serial) | Shortest-path ops (parallel) |\n",
    " | --- | --- | --- |\n",
    " | Insertion sort | $B\\,N\\,K(K+3)/2$ | TODO |\n",
    " | Radix select + filter | $B\\,N(8 \\log_2 N + 3)$ | TODO |\n"
   ]
  },
  {
   "cell_type": "markdown",
   "metadata": {},
   "source": [
    "---\n",
    "\n",
    "## Explaining the cost model"
   ]
  },
  {
   "cell_type": "markdown",
   "metadata": {},
   "source": [
    "Model:\n",
    "\n",
    " - Iterating through the input data linearly is free.\n",
    " - If statements are free, but all branches are \"taken\".\n",
    " - Fixed-offset addressing is free.\n",
    " - Ops that count (1): `{==, <, >, &, |, not, =}`\n",
    " - Ops that count (2): `+=`\n",
    "\n",
    "```python\n",
    "# Insertion sort (unrolled)\n",
    "for i, x in data:\n",
    "    if x > topk[0]:            # +1\n",
    "        topk[k-1] = topk[k-2]  # +1 *k\n",
    "        ...                    # |\n",
    "        topk[0] = (x, i)       # |\n",
    "\n",
    "    if x > topk[1]:            # +1\n",
    "        topk[k-1] = topk[k-2]  # +1 *(k-1)\n",
    "        ...                    # |\n",
    "        topk[1] = (x, i)       # |\n",
    "\n",
    "    ...\n",
    "\n",
    "    if x > topk[k-1]:          # +1\n",
    "        topk[k-1] = (x, i)     # +1\n",
    "\n",
    "# Radix select (base 2)\n",
    "partition = 0\n",
    "partition_mask = 0\n",
    "for r in range(log(N)-1, -1, -1):  # log(N) bits required to find partition\n",
    "    counts = [0, 0]\n",
    "    mask = 1 << r\n",
    "    for i, x in data:\n",
    "        if x & partition_mask == partition:  # +2\n",
    "            bit = x & r                      # +1\n",
    "            if not bit: counts[0] += 1       # +3\n",
    "            if bit: counts[1] += 1           # +2\n",
    "    partition_mask |= mask\n",
    "    partition |= update_partition(counts, mask, ...)\n",
    "\n",
    "# - scan (second scan may be needed for ties)\n",
    "ptr = 0\n",
    "for i, x in data:\n",
    "    if x > partition:      # +1\n",
    "        out[ptr] = (x, i)  # +1\n",
    "        ptr += 1           # +1\n",
    "```"
   ]
  },
  {
   "cell_type": "markdown",
   "metadata": {},
   "source": [
    "---\n",
    "\n",
    "## Tests (WIP)"
   ]
  },
  {
   "cell_type": "code",
   "execution_count": 63,
   "metadata": {},
   "outputs": [
    {
     "name": "stdout",
     "output_type": "stream",
     "text": [
      "      exact  115.0\n",
      "   ours J=2  5.0\n",
      "theirs L=2K  13.375\n"
     ]
    }
   ],
   "source": [
    "from collections import Counter\n",
    "from math import log2\n",
    "import random\n",
    "import scipy.stats\n",
    "\n",
    "\n",
    "def recall_model(K: int, L: int, J: int) -> float:\n",
    "    return (J + sum([scipy.stats.binom.cdf(J-1, i, p=1/L) for i in range(J, K)])) / K\n",
    "\n",
    "\n",
    "def recall_simulation(K: int, L: int, J: int, reps: int) -> float:\n",
    "    recalls = []\n",
    "    for _ in range(reps):\n",
    "        counts = Counter(random.randint(0, L-1) for _ in range(K))\n",
    "        recalls.append(sum(min(v, J) for v in counts.values()) / K)\n",
    "    return sum(recalls) / len(recalls)\n",
    "\n",
    "\n",
    "def ops_insertion(K: int, N: int, B: int) -> int:\n",
    "    return B * N * (K * (K+3)) // 2\n",
    "\n",
    "\n",
    "def ops_radix(K: int, N: int, B: int) -> int:\n",
    "    return B * N * (8*log2(N) + 3)\n",
    "\n",
    "\n",
    "def ops_topk(K: int, N: int, B: int) -> int:\n",
    "    return min(ops_insertion(K=K, N=N, B=B), ops_radix(K=K, N=N, B=B))\n",
    "\n",
    "\n",
    "def ops_approx_topk(K: int, N: int, L: int, J: int) -> int:\n",
    "    return ops_topk(K=J, N=(N//L), B=L) + (J*L>K) * ops_topk(K=K, N=J*L, B=1)\n",
    "\n",
    "\n",
    "# N = 2**20\n",
    "# K = 1024\n",
    "N = 16384\n",
    "K = 1024\n",
    "print(\"      exact \", ops_topk(K=K, N=N, B=1)/N)\n",
    "print(\"   ours J=2 \", ops_approx_topk(K=K, N=N, L=K//2, J=2)/N)\n",
    "print(\"theirs L=2K \", ops_approx_topk(K=K, N=N, L=2*K, J=1)/N)\n",
    "\n",
    "# for (K, L, J) in [(100, 200, 1), (100, 400, 1), (100, 100, 2)]:\n",
    "#     print(K, L, J, recall_model(K, L, J), recall_simulation(K, L, J, reps=1000))"
   ]
  }
 ],
 "metadata": {
  "kernelspec": {
   "display_name": "Python 3",
   "language": "python",
   "name": "python3"
  },
  "language_info": {
   "codemirror_mode": {
    "name": "ipython",
    "version": 3
   },
   "file_extension": ".py",
   "mimetype": "text/x-python",
   "name": "python",
   "nbconvert_exporter": "python",
   "pygments_lexer": "ipython3",
   "version": "3.10.12"
  }
 },
 "nbformat": 4,
 "nbformat_minor": 2
}
