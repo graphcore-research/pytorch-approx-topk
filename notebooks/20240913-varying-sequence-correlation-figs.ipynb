{
 "cells": [
  {
   "cell_type": "code",
   "execution_count": 9,
   "metadata": {},
   "outputs": [],
   "source": [
    "import matplotlib\n",
    "import matplotlib.pyplot as plt\n",
    "import pandas as pd\n",
    "import seaborn as sns\n",
    "\n",
    "\n",
    "matplotlib.rcParams.update({\"legend.frameon\": False, \"axes.spines.right\": False, \"axes.spines.top\": False})\n",
    "matplotlib.rcParams.update({\"text.usetex\": True, \"font.family\": \"serif\", \"font.serif\": \"CMU Serif\"})"
   ]
  },
  {
   "cell_type": "markdown",
   "metadata": {},
   "source": [
    "## Varying correlation factor"
   ]
  },
  {
   "cell_type": "code",
   "execution_count": null,
   "metadata": {},
   "outputs": [],
   "source": [
    "df = pd.read_json(\"../data/correlation/results.jsonl\", lines=True)\n",
    "df"
   ]
  },
  {
   "cell_type": "code",
   "execution_count": null,
   "metadata": {},
   "outputs": [],
   "source": [
    "# Left: original correlated data, Right: data after random permutation\n",
    "\n",
    "palette = sns.color_palette(\"flare\", as_cmap=True)\n",
    "g = sns.relplot(\n",
    "    data=df,\n",
    "    x=\"corr_factor\",\n",
    "    y=\"recall_mean\",\n",
    "    hue=\"k_per_bucket\",\n",
    "    col=\"shuffle\",\n",
    "    style=\"interleaved\",\n",
    "    kind=\"line\",\n",
    "    markers=True,\n",
    "    palette=palette,\n",
    ")\n",
    "g.figure.set_size_inches(9, 3)\n",
    "g.figure.subplots_adjust(wspace=0.3) # breathing space for columns\n",
    "g.set_axis_labels(\"Correlation factor\", \"Recall\")\n",
    "g.set_titles(col_template=\"\")\n",
    "\n",
    "g.legend.set_bbox_to_anchor((1.05, 0.5))\n",
    "for t in g.legend.get_texts():\n",
    "    text = t.get_text()\n",
    "    if text in [\"k_per_bucket\", \"interleaved\"]:\n",
    "        t.set_visible(False)\n",
    "    if text.isnumeric():\n",
    "        t.set_text(f\"$k_b = {text}$\")\n",
    "    if text == \"False\":\n",
    "        t.set_text(\"Contiguous\")\n",
    "    if text == \"True\":\n",
    "        t.set_text(\"Interleaved\")\n",
    "\n",
    "plt.savefig(\"figures/appendix-correlation-sim.pdf\", bbox_inches=\"tight\")"
   ]
  },
  {
   "cell_type": "markdown",
   "metadata": {},
   "source": [
    "## SparQ results (interleaved vs contiguous)"
   ]
  },
  {
   "cell_type": "code",
   "execution_count": 12,
   "metadata": {},
   "outputs": [],
   "source": [
    "df1 = pd.read_json(\"../data/sparq_v1.jsonl\", lines=True)"
   ]
  },
  {
   "cell_type": "code",
   "execution_count": 13,
   "metadata": {},
   "outputs": [],
   "source": [
    "df1 = df1[(df1[\"task_name\"] == \"repetition\") & (df1[\"topk_k_per_bucket\"].isin([1, 2, 4, 8]))]"
   ]
  },
  {
   "cell_type": "code",
   "execution_count": 14,
   "metadata": {},
   "outputs": [],
   "source": [
    "df2 = pd.read_json(\"../data/sparq_v2.jsonl\", lines=True)\n",
    "df2 = df2[(df2[\"task_name\"] == \"squad\") & (df2[\"topk_k_per_bucket\"].isin([1, 2, 4, 8]))]"
   ]
  },
  {
   "cell_type": "code",
   "execution_count": null,
   "metadata": {},
   "outputs": [],
   "source": [
    "df = pd.concat([df1, df2])\n",
    "df[\"topk_interleaved\"] = df[\"topk_interleaved\"].astype(bool)\n",
    "df"
   ]
  },
  {
   "cell_type": "code",
   "execution_count": null,
   "metadata": {},
   "outputs": [],
   "source": [
    "# Left: Repetition, Right: SQuAD\n",
    "# Only use k_mult == 1\n",
    "\n",
    "palette = sns.color_palette(\"flare\", as_cmap=True)\n",
    "g = sns.relplot(\n",
    "    data=df[df[\"topk_k_mult\"] == 1],\n",
    "    x=\"topk_k_per_bucket\",\n",
    "    y=\"score\",\n",
    "    style=\"topk_interleaved\",\n",
    "    col=\"task_name\",\n",
    "    kind=\"line\",\n",
    "    markers=True,\n",
    "    color=palette(0.99),\n",
    "    facet_kws={\"sharey\": False},\n",
    ")\n",
    "g.figure.set_size_inches(9, 3)\n",
    "g.figure.subplots_adjust(wspace=0.3) # breathing space for columns\n",
    "g.set_axis_labels(x_var=\"$k_b$\")\n",
    "for i, ax in enumerate(g.axes.flat):\n",
    "    ylabel = [\"Repetition match\", \"SQuAD accuracy\"]\n",
    "    ax.set_xscale(\"log\", base=2)\n",
    "    ax.set_xticks([1, 2, 4, 8])\n",
    "    ax.set_xticklabels([1, 2, 4, 8])\n",
    "    ax.set_title(\"\")\n",
    "    ax.set_ylabel(ylabel[i])\n",
    "\n",
    "g.legend.set_bbox_to_anchor((1.05, 0.5))\n",
    "g.legend.set_title(\"\")\n",
    "for t in g.legend.get_texts():\n",
    "    text = t.get_text()\n",
    "    if text == \"False\":\n",
    "        t.set_text(\"Contiguous\")\n",
    "    if text == \"True\":\n",
    "        t.set_text(\"Interleaved\")\n",
    "\n",
    "plt.savefig(\"figures/appendix-correlation-sparq.pdf\", bbox_inches=\"tight\")"
   ]
  }
 ],
 "metadata": {
  "kernelspec": {
   "display_name": ".venv",
   "language": "python",
   "name": "python3"
  },
  "language_info": {
   "codemirror_mode": {
    "name": "ipython",
    "version": 3
   },
   "file_extension": ".py",
   "mimetype": "text/x-python",
   "name": "python",
   "nbconvert_exporter": "python",
   "pygments_lexer": "ipython3",
   "version": "3.10.2"
  }
 },
 "nbformat": 4,
 "nbformat_minor": 2
}
