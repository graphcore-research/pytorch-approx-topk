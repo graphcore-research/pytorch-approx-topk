{
 "cells": [
  {
   "cell_type": "code",
   "execution_count": 12,
   "metadata": {},
   "outputs": [],
   "source": [
    "from itertools import count\n",
    "import math\n",
    "\n",
    "def log2(i: int) -> int:\n",
    "    return int(math.log2(i))\n",
    "\n",
    "inf = float(\"inf\")"
   ]
  },
  {
   "cell_type": "markdown",
   "metadata": {},
   "source": [
    "## Insertion sort (serial)"
   ]
  },
  {
   "cell_type": "code",
   "execution_count": 4,
   "metadata": {},
   "outputs": [
    {
     "data": {
      "text/plain": [
       "[(450, 6), (500, 4)]"
      ]
     },
     "execution_count": 4,
     "metadata": {},
     "output_type": "execute_result"
    }
   ],
   "source": [
    "def topk_insertion(data, k):\n",
    "    topk = sorted(data[:k])                              # (ignore)\n",
    "    for x in data:                                       # * n\n",
    "        if x > topk[0]:                                  # | +1\n",
    "            topk[0] = x                                  # | +1\n",
    "        for j in range(1, k):                            # | * (k-1)\n",
    "            if topk[j-1] > topk[j]:                      # | | +1\n",
    "                topk[j-1], topk[j] = topk[j], topk[j-1]  # | | +2\n",
    "    return topk\n",
    "\n",
    "topk_insertion(list(zip([100, 300, 400, 100, 500, 100, 450, 100], count())), 2)"
   ]
  },
  {
   "cell_type": "markdown",
   "metadata": {},
   "source": [
    "## Scan-max (parallel)"
   ]
  },
  {
   "cell_type": "code",
   "execution_count": 11,
   "metadata": {},
   "outputs": [
    {
     "data": {
      "text/plain": [
       "[(500, 4), (450, 6)]"
      ]
     },
     "execution_count": 11,
     "metadata": {},
     "output_type": "execute_result"
    }
   ],
   "source": [
    "def scan_argmax(data):\n",
    "    a = list(range(len(data)))                   # +1\n",
    "    for i in range(log2(len(data))):             # * log(n)\n",
    "        a = [a[j]                                # | +1\n",
    "             if j+2**i >= len(data) \\\n",
    "                or data[a[j+2**i]] < data[a[j]]  # | +1\n",
    "             else a[j+2**i]\n",
    "             for j in range(len(data))]\n",
    "    return a[0]\n",
    "\n",
    "def topk_scan_max(data, k):\n",
    "    data = data.copy()\n",
    "    topk = [None] * k\n",
    "    for i in range(k):         # * k\n",
    "        j = scan_argmax(data)  # | +2*log(n) + 1\n",
    "        topk[i] = data[j]      # | +1\n",
    "        data[j] = (-inf, 0)    # | +1\n",
    "    return topk\n",
    "\n",
    "topk_scan_max(list(zip([100, 300, 400, 100, 500, 100, 450, 100], count())), 2)"
   ]
  },
  {
   "cell_type": "markdown",
   "metadata": {},
   "source": [
    "## Radix select (serial)"
   ]
  },
  {
   "cell_type": "code",
   "execution_count": 16,
   "metadata": {},
   "outputs": [
    {
     "data": {
      "text/plain": [
       "[(500, 4), (450, 6)]"
      ]
     },
     "execution_count": 16,
     "metadata": {},
     "output_type": "execute_result"
    }
   ],
   "source": [
    "def topk_radix_select(data, k):\n",
    "    # Find kth value\n",
    "    kth_value, mask, count_gt = 0, 0, 0\n",
    "    for r in range(31, -1, -1):          # * log(n)\n",
    "        r_mask = 1 << r\n",
    "        kth_value |= r_mask\n",
    "        mask |= r_mask\n",
    "        count_1 = 0\n",
    "        for x, _ in data:                # | * n\n",
    "            if x & mask == kth_value:    # | | +2\n",
    "                count_1 += 1             # | | +2\n",
    "        if count_gt + count_1 < k:\n",
    "            kth_value ^= r_mask\n",
    "            count_gt += count_1\n",
    "\n",
    "    # Collect topk\n",
    "    topk = [None] * k\n",
    "    i = 0\n",
    "    for x in data:             # * n\n",
    "        if x[0] >= kth_value:  # | +1\n",
    "            topk[i] = x        # | +1\n",
    "            i += 1             # | +2\n",
    "    return topk\n",
    "\n",
    "topk_radix_select(list(zip([100, 300, 400, 100, 500, 100, 450, 100], count())), 2)"
   ]
  },
  {
   "cell_type": "markdown",
   "metadata": {
    "vscode": {
     "languageId": "plaintext"
    }
   },
   "source": [
    "## Radix select (parallel)"
   ]
  },
  {
   "cell_type": "code",
   "execution_count": 31,
   "metadata": {},
   "outputs": [
    {
     "data": {
      "text/plain": [
       "[(500, 4), (450, 6)]"
      ]
     },
     "execution_count": 31,
     "metadata": {},
     "output_type": "execute_result"
    }
   ],
   "source": [
    "def scan_cumsum(data):\n",
    "    s = data.copy()                                    # +1\n",
    "    for i in range(log2(len(s))):                      # * log(n)\n",
    "        s = [s[j] + (s[j-2**i] if j-2**i >= 0 else 0)  # | +2\n",
    "             for j in range(len(s))]\n",
    "    return s\n",
    "\n",
    "def topk_radix_select_parallel(data, k):\n",
    "    # Find kth value\n",
    "    kth_value, mask, count_gt = 0, 0, 0\n",
    "    for r in range(31, -1, -1):                              # * log(n)\n",
    "        r_mask = 1 << r                                      # | +1\n",
    "        kth_value |= r_mask                                  # | +2\n",
    "        mask |= r_mask                                       # | +2\n",
    "        count_1s = [x & mask == kth_value for x, _ in data]  # | +2\n",
    "        count_1 = scan_cumsum(count_1s)[-1]                  # | +2*log(n) + 1\n",
    "        if count_gt + count_1 < k:                           # | +2\n",
    "            kth_value ^= r_mask                              # | +2\n",
    "            count_gt += count_1                              # | +2\n",
    "\n",
    "    # Collect topk\n",
    "    in_topk = [x >= kth_value for x, _ in data]\n",
    "    offset = scan_cumsum(in_topk)                            # +2*log(n) (+ 1)\n",
    "    topk = [None] * k\n",
    "    for i in range(len(data)):                               # (in parallel)\n",
    "        if in_topk[i]:\n",
    "            topk[offset[i] - 1] = data[i]\n",
    "    return topk\n",
    "\n",
    "topk_radix_select_parallel(list(zip([100, 300, 400, 100, 500, 100, 450, 100], count())), 2)"
   ]
  }
 ],
 "metadata": {
  "kernelspec": {
   "display_name": ".venv",
   "language": "python",
   "name": "python3"
  },
  "language_info": {
   "codemirror_mode": {
    "name": "ipython",
    "version": 3
   },
   "file_extension": ".py",
   "mimetype": "text/x-python",
   "name": "python",
   "nbconvert_exporter": "python",
   "pygments_lexer": "ipython3",
   "version": "3.10.12"
  }
 },
 "nbformat": 4,
 "nbformat_minor": 2
}
