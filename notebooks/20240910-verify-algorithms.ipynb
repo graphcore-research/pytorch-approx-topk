{
 "cells": [
  {
   "cell_type": "code",
   "execution_count": 17,
   "metadata": {},
   "outputs": [],
   "source": [
    "from itertools import count\n",
    "import math\n",
    "\n",
    "def log2(i: int) -> int:\n",
    "    return int(math.log2(i))"
   ]
  },
  {
   "cell_type": "markdown",
   "metadata": {},
   "source": [
    "## Insertion sort (serial)"
   ]
  },
  {
   "cell_type": "code",
   "execution_count": 18,
   "metadata": {},
   "outputs": [
    {
     "data": {
      "text/plain": [
       "[(450, 6), (500, 4)]"
      ]
     },
     "execution_count": 18,
     "metadata": {},
     "output_type": "execute_result"
    }
   ],
   "source": [
    "def topk_insertion(data: list[tuple[float, int]], k: int) -> list[tuple[float, int]]:\n",
    "    topk = sorted(data[:k])  # can be merged into loop\n",
    "    for x in data:                                        # n*\n",
    "        if x > topk[0]:                                   # +1\n",
    "            topk[0] = x                                   # +1\n",
    "        for j in range(1, k):\n",
    "            if topk[j-1] > topk[j]:                       # +1\n",
    "                topk[j-1], topk[j] = topk[j], topk[j-1]   # +2\n",
    "    return topk\n",
    "\n",
    "topk_insertion(list(zip([100, 300, 400, 100, 500, 100, 450, 100], count())), 2)"
   ]
  },
  {
   "cell_type": "markdown",
   "metadata": {},
   "source": [
    "## Scan-max (parallel)"
   ]
  },
  {
   "cell_type": "code",
   "execution_count": 33,
   "metadata": {},
   "outputs": [
    {
     "data": {
      "text/plain": [
       "[(500, 4), (450, 6)]"
      ]
     },
     "execution_count": 33,
     "metadata": {},
     "output_type": "execute_result"
    }
   ],
   "source": [
    "def scan_argmax(data: list) -> int:\n",
    "    argmax = [i for i in range(len(data))]      # +1\n",
    "    for i in range(log2(len(data))):            # log(n)*\n",
    "        argmax = [argmax[j]                     #   +1\n",
    "                  if j+2**i >= len(data) or data[argmax[j+2**i]] < data[argmax[j]]  #   +1\n",
    "                  else argmax[j+2**i]\n",
    "                  for j in range(len(data))]\n",
    "    return argmax[0]\n",
    "\n",
    "def topk_scan_max(data: list[tuple[float, int]], k: int) -> list[tuple[float, int]]:\n",
    "    data = data.copy()\n",
    "    topk = [None for _ in range(k)]\n",
    "    for i in range(k):                # k*\n",
    "        j = scan_argmax(data)         # +2*log(n) + 1\n",
    "        topk[i] = data[j]             # +1\n",
    "        data[j] = (-float(\"inf\"), 0)  # +1\n",
    "    return topk\n",
    "\n",
    "topk_scan_max(list(zip([100, 300, 400, 100, 500, 100, 450, 100], count())), 2)"
   ]
  },
  {
   "cell_type": "markdown",
   "metadata": {},
   "source": [
    "## Radix select (serial)"
   ]
  },
  {
   "cell_type": "code",
   "execution_count": 69,
   "metadata": {},
   "outputs": [
    {
     "data": {
      "text/plain": [
       "[(500, 4), (450, 6)]"
      ]
     },
     "execution_count": 69,
     "metadata": {},
     "output_type": "execute_result"
    }
   ],
   "source": [
    "def topk_radix_select(data: list[tuple[float, int]], k: int) -> list[tuple[float, int]]:\n",
    "    partition = 0\n",
    "    partition_mask = 0\n",
    "    count_greater = 0\n",
    "    for r in range(31, -1, -1):  # log(n)* (bits required to find partition)\n",
    "        count_1 = 0\n",
    "        mask = 1 << r\n",
    "        partition |= mask\n",
    "        partition_mask |= mask\n",
    "        for x, _ in data:                        # n*\n",
    "            if x & partition_mask == partition:  #   +2\n",
    "                count_1 += 1                     #   +2\n",
    "\n",
    "        if count_greater + count_1 < k:\n",
    "            partition ^= mask\n",
    "            count_greater += count_1\n",
    "\n",
    "    topk = [None for _ in range(k)]\n",
    "    ptr = 0\n",
    "    for x in data:              # n*\n",
    "        if x[0] >= partition:   #  +1\n",
    "            topk[ptr] = x       #  +1\n",
    "            ptr += 1            #  +2\n",
    "    return topk\n",
    "\n",
    "topk_radix_select(list(zip([100, 300, 400, 100, 500, 100, 450, 100], count())), 2)"
   ]
  },
  {
   "cell_type": "markdown",
   "metadata": {
    "vscode": {
     "languageId": "plaintext"
    }
   },
   "source": [
    "## Radix select (parallel)"
   ]
  },
  {
   "cell_type": "code",
   "execution_count": 87,
   "metadata": {},
   "outputs": [
    {
     "data": {
      "text/plain": [
       "[(500, 4), (450, 6)]"
      ]
     },
     "execution_count": 87,
     "metadata": {},
     "output_type": "execute_result"
    }
   ],
   "source": [
    "def scan_sum(data: list[float]) -> float:\n",
    "    data = data.copy()                          # +1\n",
    "    for i in range(log2(len(data))):            # log(n)*\n",
    "        data = [data[j] + (data[j+2**i] if j+2**i < len(data) else 0) for j in range(len(data))]  # +2\n",
    "    return data[0]\n",
    "\n",
    "def scan_cumsum(data: list[int]) -> list[int]:\n",
    "    data = data.copy()                          # +1\n",
    "    for i in range(log2(len(data))):            # log(n)*\n",
    "        data = [data[j] + (data[j-2**i] if j-2**i >= 0 else 0) for j in range(len(data))]  # +2\n",
    "    return data\n",
    "\n",
    "def topk_radix_select_parallel(data: list[tuple[float, int]], k: int) -> list[tuple[float, int]]:\n",
    "    partition = 0\n",
    "    partition_mask = 0\n",
    "    count_greater = 0\n",
    "    for r in range(31, -1, -1):  # log(n)* (bits required to find partition)\n",
    "        mask = 1 << r                                                  # +1\n",
    "        partition |= mask                                              # +2\n",
    "        partition_mask |= mask                                         # +2\n",
    "\n",
    "        count_1s = [x & partition_mask == partition for x, _ in data]  # +2\n",
    "        count_1 = scan_sum(count_1s)                                   # +2log(n) + 1\n",
    "\n",
    "        if count_greater + count_1 < k:                                # +2\n",
    "            partition ^= mask                                          # +2\n",
    "            count_greater += count_1                                   # +2\n",
    "\n",
    "    in_topk = [x >= partition for x, _ in data]\n",
    "    offset = scan_cumsum(in_topk)                                      # +2log(n) (+ 1)\n",
    "    topk = [None for _ in range(k)]\n",
    "    for i in range(len(data)):  # (parallel)\n",
    "        if in_topk[i]:\n",
    "            topk[offset[i] - 1] = data[i]\n",
    "    return topk\n",
    "\n",
    "topk_radix_select_parallel(list(zip([100, 300, 400, 100, 500, 100, 450, 100], count())), 2)"
   ]
  }
 ],
 "metadata": {
  "kernelspec": {
   "display_name": ".venv",
   "language": "python",
   "name": "python3"
  },
  "language_info": {
   "codemirror_mode": {
    "name": "ipython",
    "version": 3
   },
   "file_extension": ".py",
   "mimetype": "text/x-python",
   "name": "python",
   "nbconvert_exporter": "python",
   "pygments_lexer": "ipython3",
   "version": "3.10.12"
  }
 },
 "nbformat": 4,
 "nbformat_minor": 2
}
